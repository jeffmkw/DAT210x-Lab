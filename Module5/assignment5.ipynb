{
 "cells": [
  {
   "cell_type": "code",
   "execution_count": 1,
   "metadata": {
    "collapsed": true
   },
   "outputs": [],
   "source": [
    "import numpy as np\n",
    "import pandas as pd\n",
    "import matplotlib.pyplot as plt\n",
    "import matplotlib\n",
    "\n",
    "matplotlib.style.use('ggplot') # Look Pretty\n",
    "\n",
    "\n",
    "def plotDecisionBoundary(model, X, y):\n",
    "  fig = plt.figure()\n",
    "  ax = fig.add_subplot(111)\n",
    "\n",
    "  padding = 0.6\n",
    "  resolution = 0.0025\n",
    "  colors = ['royalblue','forestgreen','ghostwhite']\n",
    "\n",
    "  # Calculate the boundaris\n",
    "  x_min, x_max = X[:, 0].min(), X[:, 0].max()\n",
    "  y_min, y_max = X[:, 1].min(), X[:, 1].max()\n",
    "  x_range = x_max - x_min\n",
    "  y_range = y_max - y_min\n",
    "  x_min -= x_range * padding\n",
    "  y_min -= y_range * padding\n",
    "  x_max += x_range * padding\n",
    "  y_max += y_range * padding\n",
    "\n",
    "  # Create a 2D Grid Matrix. The values stored in the matrix\n",
    "  # are the predictions of the class at at said location\n",
    "  xx, yy = np.meshgrid(np.arange(x_min, x_max, resolution),\n",
    "                       np.arange(y_min, y_max, resolution))\n",
    "\n",
    "  # What class does the classifier say?\n",
    "  Z = model.predict(np.c_[xx.ravel(), yy.ravel()])\n",
    "  Z = Z.reshape(xx.shape)\n",
    "\n",
    "  # Plot the contour map\n",
    "  cs = plt.contourf(xx, yy, Z, cmap=plt.cm.terrain)\n",
    "\n",
    "  # Plot the test original points as well...\n",
    "  for label in range(len(np.unique(y))):\n",
    "    indices = np.where(y == label)\n",
    "    plt.scatter(X[indices, 0], X[indices, 1], c=colors[label], label=str(label), alpha=0.8)\n",
    "\n",
    "  p = model.get_params()\n",
    "  plt.axis('tight')\n",
    "  plt.title('K = ' + str(p['n_neighbors']))"
   ]
  },
  {
   "cell_type": "code",
   "execution_count": 2,
   "metadata": {
    "collapsed": true
   },
   "outputs": [],
   "source": [
    "# TODO: Load up the dataset into a variable called X. Check the .head and\n",
    "# compare it to the file you loaded in a text editor. Make sure you're\n",
    "# loading your data properly--don't fail on the 1st step!\n",
    "#\n",
    "\n",
    "# TODO: Basic nan munging. Fill each row's nans with the mean of the feature\n",
    "\n",
    "df = pd.read_csv('Datasets/wheat.data')\n",
    "df = df.fillna(df.mean())\n",
    "\n",
    "# TODO: Copy the 'wheat_type' series slice out of X, and into a series\n",
    "# called 'y'. Then drop the original 'wheat_type' column from the X\n",
    "X = df\n",
    "y = X.wheat_type\n",
    "del X['wheat_type']\n",
    "\n",
    "# TODO: Do a quick, \"ordinal\" conversion of 'y'. In actuality our\n",
    "# classification isn't ordinal, but just as an experiment...\n",
    "\n",
    "#this is in Chapter 2: Feature representation\n",
    "\n",
    "ordered_type = ['canadian', 'rosa', 'kama']\n",
    "y = y.astype('category', ordered = True, categories = ordered_type).cat.codes"
   ]
  },
  {
   "cell_type": "code",
   "execution_count": 3,
   "metadata": {
    "collapsed": false
   },
   "outputs": [],
   "source": [
    "# TODO: Split X into training and testing data sets using train_test_split().\n",
    "# INFO: Use 0.33 test size, and use random_state=1. This is important\n",
    "# so that your answers are verifiable. In the real world, you wouldn't\n",
    "# specify a random_state.\n",
    "from sklearn.model_selection import train_test_split\n",
    "x_train, x_test, y_train, y_test = train_test_split(X, y, test_size=0.33, random_state=14)"
   ]
  },
  {
   "cell_type": "code",
   "execution_count": 4,
   "metadata": {
    "collapsed": false
   },
   "outputs": [
    {
     "data": {
      "text/plain": [
       "[0, 1, 2]"
      ]
     },
     "execution_count": 4,
     "metadata": {},
     "output_type": "execute_result"
    }
   ],
   "source": [
    "list(set(y_train))"
   ]
  },
  {
   "cell_type": "code",
   "execution_count": 5,
   "metadata": {
    "collapsed": false
   },
   "outputs": [
    {
     "data": {
      "text/plain": [
       "Normalizer(copy=True, norm='l2')"
      ]
     },
     "execution_count": 5,
     "metadata": {},
     "output_type": "execute_result"
    }
   ],
   "source": [
    "# TODO: Create an instance of SKLearn's Normalizer class and then train it\n",
    "# using its .fit() method against your *training* data.\n",
    "#\n",
    "# NOTE: The reason you only fit against your training data is because in a\n",
    "# real-world situation, you'll only have your training data to train with!\n",
    "# In this lab setting, you have both train+test data; but in the wild,\n",
    "# you'll only have your training data, and then unlabeled data you want to\n",
    "# apply your models to.\n",
    "#\n",
    "\n",
    "from sklearn.preprocessing import Normalizer\n",
    "norm = Normalizer()\n",
    "norm.fit(x_train)"
   ]
  },
  {
   "cell_type": "code",
   "execution_count": 6,
   "metadata": {
    "collapsed": false
   },
   "outputs": [],
   "source": [
    "# TODO: With your trained pre-processor, transform both your training AND\n",
    "# testing data.\n",
    "#\n",
    "# NOTE: Any testing data has to be transformed with your preprocessor\n",
    "# that has ben fit against your training data, so that it exist in the same\n",
    "# feature-space as the original data used to train your models.\n",
    "\n",
    "x_transform_train = norm.transform(x_train)\n",
    "x_transform_test = norm.transform(x_test)\n"
   ]
  },
  {
   "cell_type": "code",
   "execution_count": 7,
   "metadata": {
    "collapsed": false
   },
   "outputs": [
    {
     "name": "stdout",
     "output_type": "stream",
     "text": [
      "(140, 2) (70, 2)\n"
     ]
    }
   ],
   "source": [
    "# TODO: Just like your preprocessing transformation, create a PCA\n",
    "# transformation as well. Fit it against your training data, and then\n",
    "# project your training and testing features into PCA space using the\n",
    "# PCA model's .transform() method.\n",
    "#\n",
    "# NOTE: This has to be done because the only way to visualize the decision\n",
    "# boundary in 2D would be if your KNN algo ran in 2D as well:\n",
    "#\n",
    "\n",
    "from sklearn.decomposition import PCA\n",
    "pca = PCA(n_components = 2, svd_solver = 'full')\n",
    "pca.fit(x_train)\n",
    "T_train = pca.transform(x_train)\n",
    "T_test = pca.transform(x_test)\n",
    "print(T_train.shape, T_test.shape)"
   ]
  },
  {
   "cell_type": "code",
   "execution_count": 8,
   "metadata": {
    "collapsed": false
   },
   "outputs": [
    {
     "data": {
      "text/plain": [
       "KNeighborsClassifier(algorithm='auto', leaf_size=30, metric='minkowski',\n",
       "           metric_params=None, n_jobs=1, n_neighbors=9, p=2,\n",
       "           weights='uniform')"
      ]
     },
     "execution_count": 8,
     "metadata": {},
     "output_type": "execute_result"
    }
   ],
   "source": [
    "# TODO: Create and train a KNeighborsClassifier. Start with K=9 neighbors.\n",
    "# NOTE: Be sure train your classifier against the pre-processed, PCA-\n",
    "# transformed training data above! You do not, of course, need to transform\n",
    "# your labels.\n",
    "\n",
    "from sklearn.neighbors import KNeighborsClassifier\n",
    "knc = KNeighborsClassifier(n_neighbors = 9)\n",
    "knc.fit(T_train, y_train)"
   ]
  },
  {
   "cell_type": "code",
   "execution_count": null,
   "metadata": {
    "collapsed": false,
    "deletable": true,
    "editable": true
   },
   "outputs": [
    {
     "data": {
      "text/plain": [
       "KNeighborsClassifier(algorithm='auto', leaf_size=30, metric='minkowski',\n",
       "           metric_params=None, n_jobs=1, n_neighbors=9, p=2,\n",
       "           weights='uniform')"
      ]
     },
     "execution_count": 9,
     "metadata": {},
     "output_type": "execute_result"
    }
   ],
   "source": [
    "# TODO: Create and train a KNeighborsClassifier. Start with K=9 neighbors.\n",
    "# NOTE: Be sure train your classifier against the pre-processed, PCA-\n",
    "# transformed training data above! You do not, of course, need to transform\n",
    "# your labels.\n",
    "\n",
    "from sklearn.neighbors import KNeighborsClassifier\n",
    "knn = KNeighborsClassifier(n_neighbors = 9)\n",
    "knn.fit(T_train, y_train)"
   ]
  },
  {
   "cell_type": "code",
   "execution_count": null,
   "metadata": {
    "collapsed": false
   },
   "outputs": [],
   "source": [
    "# HINT: Ensure your KNeighbors classifier object from earlier is called 'knn'\n",
    "plotDecisionBoundary(knn, T_train, y_train)\n",
    "\n",
    "\n",
    "#------------------------------------\n",
    "#\n",
    "# TODO: Display the accuracy score of your test data/labels, computed by\n",
    "# your KNeighbors model.\n",
    "#\n",
    "# NOTE: You do NOT have to run .predict before calling .score, since\n",
    "# .score will take care of running your predictions for you automatically.\n",
    "#\n",
    "knn.score(T_test, y_test)\n",
    "\n",
    "\n",
    "\n",
    "#\n",
    "# BONUS: Instead of the ordinal conversion, try and get this assignment\n",
    "# working with a proper Pandas get_dummies for feature encoding. HINT:\n",
    "# You might have to update some of the plotDecisionBoundary code.\n",
    "\n",
    "\n",
    "plt.show()\n"
   ]
  },
  {
   "cell_type": "code",
   "execution_count": null,
   "metadata": {
    "collapsed": true
   },
   "outputs": [],
   "source": []
  }
 ],
 "metadata": {
  "kernelspec": {
   "display_name": "Python [Root]",
   "language": "python",
   "name": "Python [Root]"
  },
  "language_info": {
   "codemirror_mode": {
    "name": "ipython",
    "version": 3
   },
   "file_extension": ".py",
   "mimetype": "text/x-python",
   "name": "python",
   "nbconvert_exporter": "python",
   "pygments_lexer": "ipython3",
   "version": "3.5.2"
  }
 },
 "nbformat": 4,
 "nbformat_minor": 0
}
