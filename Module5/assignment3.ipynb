{
 "cells": [
  {
   "cell_type": "code",
   "execution_count": 5,
   "metadata": {
    "collapsed": false
   },
   "outputs": [],
   "source": [
    "import pandas as pd\n",
    "from datetime import timedelta\n",
    "import matplotlib.pyplot as plt\n",
    "import matplotlib\n",
    "\n",
    "matplotlib.style.use('ggplot') # Look Pretty\n",
    "\n",
    "#\n",
    "# INFO: This dataset has call records for 10 users tracked over the course of 3 years.\n",
    "# Your job is to find out where the users likely live at!\n",
    "\n",
    "\n",
    "def showandtell(title=None):\n",
    "  if title != None: plt.savefig(title + \".png\", bbox_inches='tight', dpi=300)\n",
    "  plt.show()\n",
    "  # exit()\n",
    "\n",
    "def clusterInfo(model):\n",
    "  print (\"Cluster Analysis Inertia: \", model.inertia_)\n",
    "  print ('------------------------------------------')\n",
    "  for i in range(len(model.cluster_centers_)):\n",
    "    print (\"\\n  Cluster \", i)\n",
    "    print (\"    Centroid \", model.cluster_centers_[i])\n",
    "    print (\"    #Samples \", (model.labels_==i).sum()) # NumPy Power\n",
    "\n",
    "# Find the cluster with the least # attached nodes\n",
    "def clusterWithFewestSamples(model):\n",
    "  # Ensure there's at least on cluster...\n",
    "  minSamples = len(model.labels_)\n",
    "  minCluster = 0\n",
    "  for i in range(len(model.cluster_centers_)):\n",
    "    if minSamples > (model.labels_==i).sum():\n",
    "      minCluster = i\n",
    "      minSamples = (model.labels_==i).sum()\n",
    "  print(\"\\n  Cluster With Fewest Samples: \", minCluster)\n",
    "  return (model.labels_==minCluster)"
   ]
  },
  {
   "cell_type": "code",
   "execution_count": null,
   "metadata": {
    "collapsed": true
   },
   "outputs": [],
   "source": [
    "# TODO: Load up the dataset and take a peek at its head\n",
    "# Convert the date using pd.to_datetime, and the time using pd.to_timedelta\n",
    "df = pd.read_csv('Datasets/CDR.csv')\n",
    "df.CallDate = pd.to_datetime(df.CallDate)\n",
    "df.CallTime = pd.to_datetime(df.CallTime).dt.time[8]\n",
    "df.head(5)"
   ]
  }
 ],
 "metadata": {
  "kernelspec": {
   "display_name": "Python [Root]",
   "language": "python",
   "name": "Python [Root]"
  },
  "language_info": {
   "codemirror_mode": {
    "name": "ipython",
    "version": 3
   },
   "file_extension": ".py",
   "mimetype": "text/x-python",
   "name": "python",
   "nbconvert_exporter": "python",
   "pygments_lexer": "ipython3",
   "version": "3.5.2"
  }
 },
 "nbformat": 4,
 "nbformat_minor": 0
}
