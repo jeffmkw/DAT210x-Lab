{
 "cells": [
  {
   "cell_type": "code",
   "execution_count": 23,
   "metadata": {
    "collapsed": true
   },
   "outputs": [],
   "source": [
    "import pandas as pd"
   ]
  },
  {
   "cell_type": "code",
   "execution_count": 24,
   "metadata": {
    "collapsed": false
   },
   "outputs": [
    {
     "data": {
      "text/html": [
       "<div>\n",
       "<table border=\"1\" class=\"dataframe\">\n",
       "  <thead>\n",
       "    <tr style=\"text-align: right;\">\n",
       "      <th></th>\n",
       "      <th>motor</th>\n",
       "      <th>screw</th>\n",
       "      <th>pgain</th>\n",
       "      <th>vgain</th>\n",
       "      <th>class</th>\n",
       "    </tr>\n",
       "  </thead>\n",
       "  <tbody>\n",
       "    <tr>\n",
       "      <th>0</th>\n",
       "      <td>B</td>\n",
       "      <td>D</td>\n",
       "      <td>6</td>\n",
       "      <td>5</td>\n",
       "      <td>0.506252</td>\n",
       "    </tr>\n",
       "    <tr>\n",
       "      <th>1</th>\n",
       "      <td>D</td>\n",
       "      <td>D</td>\n",
       "      <td>4</td>\n",
       "      <td>3</td>\n",
       "      <td>0.356251</td>\n",
       "    </tr>\n",
       "    <tr>\n",
       "      <th>2</th>\n",
       "      <td>B</td>\n",
       "      <td>A</td>\n",
       "      <td>3</td>\n",
       "      <td>2</td>\n",
       "      <td>5.500033</td>\n",
       "    </tr>\n",
       "    <tr>\n",
       "      <th>3</th>\n",
       "      <td>D</td>\n",
       "      <td>B</td>\n",
       "      <td>6</td>\n",
       "      <td>5</td>\n",
       "      <td>0.356251</td>\n",
       "    </tr>\n",
       "    <tr>\n",
       "      <th>4</th>\n",
       "      <td>E</td>\n",
       "      <td>C</td>\n",
       "      <td>4</td>\n",
       "      <td>3</td>\n",
       "      <td>0.806255</td>\n",
       "    </tr>\n",
       "  </tbody>\n",
       "</table>\n",
       "</div>"
      ],
      "text/plain": [
       "  motor screw  pgain  vgain     class\n",
       "0     B     D      6      5  0.506252\n",
       "1     D     D      4      3  0.356251\n",
       "2     B     A      3      2  5.500033\n",
       "3     D     B      6      5  0.356251\n",
       "4     E     C      4      3  0.806255"
      ]
     },
     "execution_count": 24,
     "metadata": {},
     "output_type": "execute_result"
    }
   ],
   "source": [
    "# TODO: Load up the dataset\n",
    "# Ensuring you set the appropriate header column names\n",
    "df = pd.read_csv('Datasets/servo.data')\n",
    "columns = ['motor', 'screw', 'pgain', 'vgain', 'class']\n",
    "df.columns = columns\n",
    "df.head(5)"
   ]
  },
  {
   "cell_type": "code",
   "execution_count": 25,
   "metadata": {
    "collapsed": false
   },
   "outputs": [
    {
     "data": {
      "text/plain": [
       "22"
      ]
     },
     "execution_count": 25,
     "metadata": {},
     "output_type": "execute_result"
    }
   ],
   "source": [
    "# TODO: Create a slice that contains all entries\n",
    "# having a vgain equal to 5. Then print the \n",
    "# length of (# of samples in) that slice:\n",
    "eq5 = df[df.vgain ==5]\n",
    "len(eq5)"
   ]
  },
  {
   "cell_type": "code",
   "execution_count": 30,
   "metadata": {
    "collapsed": false
   },
   "outputs": [
    {
     "data": {
      "text/html": [
       "<div>\n",
       "<table border=\"1\" class=\"dataframe\">\n",
       "  <thead>\n",
       "    <tr style=\"text-align: right;\">\n",
       "      <th></th>\n",
       "      <th>motor</th>\n",
       "      <th>screw</th>\n",
       "      <th>pgain</th>\n",
       "      <th>vgain</th>\n",
       "      <th>class</th>\n",
       "    </tr>\n",
       "  </thead>\n",
       "  <tbody>\n",
       "    <tr>\n",
       "      <th>34</th>\n",
       "      <td>E</td>\n",
       "      <td>E</td>\n",
       "      <td>3</td>\n",
       "      <td>2</td>\n",
       "      <td>1.100000</td>\n",
       "    </tr>\n",
       "    <tr>\n",
       "      <th>85</th>\n",
       "      <td>E</td>\n",
       "      <td>E</td>\n",
       "      <td>4</td>\n",
       "      <td>3</td>\n",
       "      <td>0.843755</td>\n",
       "    </tr>\n",
       "    <tr>\n",
       "      <th>131</th>\n",
       "      <td>E</td>\n",
       "      <td>E</td>\n",
       "      <td>6</td>\n",
       "      <td>5</td>\n",
       "      <td>0.281251</td>\n",
       "    </tr>\n",
       "    <tr>\n",
       "      <th>139</th>\n",
       "      <td>E</td>\n",
       "      <td>E</td>\n",
       "      <td>4</td>\n",
       "      <td>2</td>\n",
       "      <td>0.506252</td>\n",
       "    </tr>\n",
       "    <tr>\n",
       "      <th>150</th>\n",
       "      <td>E</td>\n",
       "      <td>E</td>\n",
       "      <td>3</td>\n",
       "      <td>1</td>\n",
       "      <td>0.700001</td>\n",
       "    </tr>\n",
       "  </tbody>\n",
       "</table>\n",
       "</div>"
      ],
      "text/plain": [
       "    motor screw  pgain  vgain     class\n",
       "34      E     E      3      2  1.100000\n",
       "85      E     E      4      3  0.843755\n",
       "131     E     E      6      5  0.281251\n",
       "139     E     E      4      2  0.506252\n",
       "150     E     E      3      1  0.700001"
      ]
     },
     "execution_count": 30,
     "metadata": {},
     "output_type": "execute_result"
    }
   ],
   "source": [
    "# TODO: Create a slice that contains all entries\n",
    "# having a motor equal to E and screw equal\n",
    "# to E. Then print the length of (# of\n",
    "# samples in) that slice:\n",
    "eqE = df[(df.motor == 'E') & (df.screw == 'E')]\n",
    "eqE"
   ]
  },
  {
   "cell_type": "code",
   "execution_count": 32,
   "metadata": {
    "collapsed": false
   },
   "outputs": [
    {
     "data": {
      "text/html": [
       "<div>\n",
       "<table border=\"1\" class=\"dataframe\">\n",
       "  <thead>\n",
       "    <tr style=\"text-align: right;\">\n",
       "      <th></th>\n",
       "      <th>motor</th>\n",
       "      <th>screw</th>\n",
       "      <th>pgain</th>\n",
       "      <th>vgain</th>\n",
       "      <th>class</th>\n",
       "    </tr>\n",
       "  </thead>\n",
       "  <tbody>\n",
       "    <tr>\n",
       "      <th>34</th>\n",
       "      <td>E</td>\n",
       "      <td>E</td>\n",
       "      <td>3</td>\n",
       "      <td>2</td>\n",
       "      <td>1.100000</td>\n",
       "    </tr>\n",
       "    <tr>\n",
       "      <th>85</th>\n",
       "      <td>E</td>\n",
       "      <td>E</td>\n",
       "      <td>4</td>\n",
       "      <td>3</td>\n",
       "      <td>0.843755</td>\n",
       "    </tr>\n",
       "    <tr>\n",
       "      <th>131</th>\n",
       "      <td>E</td>\n",
       "      <td>E</td>\n",
       "      <td>6</td>\n",
       "      <td>5</td>\n",
       "      <td>0.281251</td>\n",
       "    </tr>\n",
       "    <tr>\n",
       "      <th>139</th>\n",
       "      <td>E</td>\n",
       "      <td>E</td>\n",
       "      <td>4</td>\n",
       "      <td>2</td>\n",
       "      <td>0.506252</td>\n",
       "    </tr>\n",
       "    <tr>\n",
       "      <th>150</th>\n",
       "      <td>E</td>\n",
       "      <td>E</td>\n",
       "      <td>3</td>\n",
       "      <td>1</td>\n",
       "      <td>0.700001</td>\n",
       "    </tr>\n",
       "  </tbody>\n",
       "</table>\n",
       "</div>"
      ],
      "text/plain": [
       "    motor screw  pgain  vgain     class\n",
       "34      E     E      3      2  1.100000\n",
       "85      E     E      4      3  0.843755\n",
       "131     E     E      6      5  0.281251\n",
       "139     E     E      4      2  0.506252\n",
       "150     E     E      3      1  0.700001"
      ]
     },
     "execution_count": 32,
     "metadata": {},
     "output_type": "execute_result"
    }
   ],
   "source": [
    "df_servo = df\n",
    "\n",
    "df_servo[(df_servo.motor == 'E') & (df_servo.screw == 'E')]"
   ]
  },
  {
   "cell_type": "code",
   "execution_count": 19,
   "metadata": {
    "collapsed": false
   },
   "outputs": [
    {
     "data": {
      "text/plain": [
       "2.0606060606060606"
      ]
     },
     "execution_count": 19,
     "metadata": {},
     "output_type": "execute_result"
    }
   ],
   "source": [
    "# TODO: Create a slice that contains all entries\n",
    "# having a pgain equal to 4. Use one of the\n",
    "# various methods of finding the mean vgain\n",
    "# value for the samples in that slice. Once\n",
    "# you've found it, print it:\n",
    "eq4 = df[df.pgain == 4]\n",
    "eq4.vgain.mean()"
   ]
  },
  {
   "cell_type": "code",
   "execution_count": 13,
   "metadata": {
    "collapsed": false
   },
   "outputs": [
    {
     "data": {
      "text/plain": [
       "motor     object\n",
       "screw     object\n",
       "pgain      int64\n",
       "vgain      int64\n",
       "class    float64\n",
       "dtype: object"
      ]
     },
     "execution_count": 13,
     "metadata": {},
     "output_type": "execute_result"
    }
   ],
   "source": [
    "# TODO: (Bonus) See what happens when you run\n",
    "# the .dtypes method on your dataframe!\n",
    "df.dtypes"
   ]
  }
 ],
 "metadata": {
  "kernelspec": {
   "display_name": "Python 3",
   "language": "python",
   "name": "python3"
  },
  "language_info": {
   "codemirror_mode": {
    "name": "ipython",
    "version": 3.0
   },
   "file_extension": ".py",
   "mimetype": "text/x-python",
   "name": "python",
   "nbconvert_exporter": "python",
   "pygments_lexer": "ipython3",
   "version": "3.5.2"
  }
 },
 "nbformat": 4,
 "nbformat_minor": 0
}