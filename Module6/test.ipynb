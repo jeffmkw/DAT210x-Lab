{
 "cells": [
  {
   "cell_type": "code",
   "execution_count": 1,
   "metadata": {
    "collapsed": true
   },
   "outputs": [],
   "source": [
    "import pandas as pd"
   ]
  },
  {
   "cell_type": "code",
   "execution_count": 6,
   "metadata": {
    "collapsed": true
   },
   "outputs": [],
   "source": [
    "# TODO: Pass in the file paths to the .tes and the .tra files\n",
    "X_train, X_test, y_train, y_test = load('Datasets/optdigits.tes', 'Datasets/optdigits.tra')"
   ]
  },
  {
   "cell_type": "code",
   "execution_count": 9,
   "metadata": {
    "collapsed": false
   },
   "outputs": [
    {
     "data": {
      "text/plain": [
       "(3822, 64)"
      ]
     },
     "execution_count": 9,
     "metadata": {},
     "output_type": "execute_result"
    }
   ],
   "source": [
    "X_train.shape"
   ]
  },
  {
   "cell_type": "code",
   "execution_count": 10,
   "metadata": {
    "collapsed": false
   },
   "outputs": [
    {
     "data": {
      "text/plain": [
       "(3822,)"
      ]
     },
     "execution_count": 10,
     "metadata": {},
     "output_type": "execute_result"
    }
   ],
   "source": [
    "y_train.shape"
   ]
  },
  {
   "cell_type": "code",
   "execution_count": 12,
   "metadata": {
    "collapsed": false
   },
   "outputs": [
    {
     "name": "stdout",
     "output_type": "stream",
     "text": [
      "Peeking your data...\n"
     ]
    },
    {
     "name": "stderr",
     "output_type": "stream",
     "text": [
      "D:\\anaconda\\lib\\site-packages\\ipykernel\\__main__.py:10: FutureWarning: reshape is deprecated and will raise in a subsequent release. Please use .values.reshape(...) instead\n"
     ]
    }
   ],
   "source": [
    "import matplotlib.pyplot as plt\n",
    "from sklearn import svm\n",
    "peekData(X_train)"
   ]
  },
  {
   "cell_type": "code",
   "execution_count": 16,
   "metadata": {
    "collapsed": false
   },
   "outputs": [
    {
     "name": "stdout",
     "output_type": "stream",
     "text": [
      "Training SVC Classifier...\n"
     ]
    },
    {
     "data": {
      "text/plain": [
       "SVC(C=1, cache_size=200, class_weight=None, coef0=0.0,\n",
       "  decision_function_shape=None, degree=3, gamma=0.001, kernel='linear',\n",
       "  max_iter=-1, probability=False, random_state=None, shrinking=True,\n",
       "  tol=0.001, verbose=False)"
      ]
     },
     "execution_count": 16,
     "metadata": {},
     "output_type": "execute_result"
    }
   ],
   "source": [
    "#\n",
    "# TODO: Create an SVC classifier. Leave C=1, but set gamma to 0.001\n",
    "# and set the kernel to linear. Then train the model on the training\n",
    "# data / labels:\n",
    "print (\"Training SVC Classifier...\")\n",
    "#\n",
    "# .. your code here ..\n",
    "\n",
    "from sklearn.svm import SVC\n",
    "model = SVC(C=1, gamma=0.001, kernel='linear')\n",
    "model.fit(X_train, y_train)"
   ]
  },
  {
   "cell_type": "code",
   "execution_count": 17,
   "metadata": {
    "collapsed": false
   },
   "outputs": [
    {
     "name": "stdout",
     "output_type": "stream",
     "text": [
      "Scoring SVC Classifier...\n",
      "Score:\n",
      " 0.961024498886\n"
     ]
    }
   ],
   "source": [
    "print (\"Scoring SVC Classifier...\")\n",
    "#\n",
    "# .. your code here ..\n",
    "score = model.score(X_test, y_test)\n",
    "print (\"Score:\\n\", score)"
   ]
  },
  {
   "cell_type": "code",
   "execution_count": 18,
   "metadata": {
    "collapsed": false
   },
   "outputs": [
    {
     "name": "stderr",
     "output_type": "stream",
     "text": [
      "D:\\anaconda\\lib\\site-packages\\ipykernel\\__main__.py:22: FutureWarning: reshape is deprecated and will raise in a subsequent release. Please use .values.reshape(...) instead\n"
     ]
    }
   ],
   "source": [
    "drawPredictions(X_train, X_test, y_train, y_test)"
   ]
  },
  {
   "cell_type": "code",
   "execution_count": 20,
   "metadata": {
    "collapsed": false
   },
   "outputs": [
    {
     "name": "stdout",
     "output_type": "stream",
     "text": [
      "1000th test label:  1\n"
     ]
    }
   ],
   "source": [
    "true_1000th_test_value = y_test[999]\n",
    "print (\"1000th test label: \", true_1000th_test_value)"
   ]
  },
  {
   "cell_type": "code",
   "execution_count": 22,
   "metadata": {
    "collapsed": false
   },
   "outputs": [
    {
     "name": "stdout",
     "output_type": "stream",
     "text": [
      "1000th test prediction:  [1]\n"
     ]
    },
    {
     "name": "stderr",
     "output_type": "stream",
     "text": [
      "D:\\anaconda\\lib\\site-packages\\sklearn\\utils\\validation.py:395: DeprecationWarning: Passing 1d arrays as data is deprecated in 0.17 and will raise ValueError in 0.19. Reshape your data either using X.reshape(-1, 1) if your data has a single feature or X.reshape(1, -1) if it contains a single sample.\n",
      "  DeprecationWarning)\n"
     ]
    }
   ],
   "source": [
    "guess_1000th_test_value = model.predict(X_test.iloc[999])\n",
    "print(\"1000th test prediction: \", guess_1000th_test_value)"
   ]
  },
  {
   "cell_type": "code",
   "execution_count": null,
   "metadata": {
    "collapsed": true
   },
   "outputs": [],
   "source": []
  },
  {
   "cell_type": "code",
   "execution_count": 5,
   "metadata": {
    "collapsed": true
   },
   "outputs": [],
   "source": [
    "def drawPredictions(X_train, X_test, y_train, y_test):\n",
    "  fig = plt.figure()\n",
    "\n",
    "  # Make some guesses\n",
    "  y_guess = model.predict(X_test)\n",
    "\n",
    "\n",
    "  #\n",
    "  # INFO: This is the second lab we're demonstrating how to\n",
    "  # do multi-plots using matplot lab. In the next assignment(s),\n",
    "  # it'll be your responsibility to use this and assignment #1\n",
    "  # as tutorials to add in the plotting code yourself!\n",
    "  num_rows = 10\n",
    "  num_cols = 5\n",
    "\n",
    "  index = 0\n",
    "  for col in range(num_cols):\n",
    "    for row in range(num_rows):\n",
    "      plt.subplot(num_cols, num_rows, index + 1)\n",
    "\n",
    "      # 8x8 is the size of the image, 64 pixels\n",
    "      plt.imshow(X_test.ix[index,:].reshape(8,8), cmap=plt.cm.gray_r, interpolation='nearest')\n",
    "\n",
    "      # Green = Guessed right\n",
    "      # Red = Fail!\n",
    "      fontcolor = 'g' if y_test[index] == y_guess[index] else 'r'\n",
    "      plt.title('Label: %i' % y_guess[index], fontsize=6, color=fontcolor)\n",
    "      plt.axis('off')\n",
    "      index += 1\n",
    "  fig.set_tight_layout(True)\n",
    "  plt.show()"
   ]
  },
  {
   "cell_type": "code",
   "execution_count": 4,
   "metadata": {
    "collapsed": false
   },
   "outputs": [],
   "source": [
    "def peekData(X_train):\n",
    "  # The 'targets' or labels are stored in y. The 'samples' or data is stored in X\n",
    "  print(\"Peeking your data...\")\n",
    "  fig = plt.figure()\n",
    "\n",
    "  cnt = 0\n",
    "  for col in range(5):\n",
    "    for row in range(10):\n",
    "      plt.subplot(5, 10, cnt + 1)\n",
    "      plt.imshow(X_train.ix[cnt,:].reshape(8,8), cmap=plt.cm.gray_r, interpolation='nearest')\n",
    "      plt.axis('off')\n",
    "      cnt += 1\n",
    "  fig.set_tight_layout(True)\n",
    "  plt.show()"
   ]
  },
  {
   "cell_type": "code",
   "execution_count": 2,
   "metadata": {
    "collapsed": true
   },
   "outputs": [],
   "source": [
    "def load(path_test, path_train):\n",
    "  # Load up the data.\n",
    "  # You probably could have written this..\n",
    "  with open(path_test, 'r')  as f: testing  = pd.read_csv(f)\n",
    "  with open(path_train, 'r') as f: training = pd.read_csv(f)\n",
    "\n",
    "  # The number of samples between training and testing can vary\n",
    "  # But the number of features better remain the same!\n",
    "  n_features = testing.shape[1]\n",
    "\n",
    "  X_test  = testing.ix[:,:n_features-1]\n",
    "  X_train = training.ix[:,:n_features-1]\n",
    "  y_test  = testing.ix[:,n_features-1:].values.ravel()\n",
    "  y_train = training.ix[:,n_features-1:].values.ravel()\n",
    "\n",
    "  #\n",
    "  # Special:\n",
    "\n",
    "  return X_train, X_test, y_train, y_test"
   ]
  }
 ],
 "metadata": {
  "kernelspec": {
   "display_name": "Python 3",
   "language": "python",
   "name": "python3"
  },
  "language_info": {
   "codemirror_mode": {
    "name": "ipython",
    "version": 3
   },
   "file_extension": ".py",
   "mimetype": "text/x-python",
   "name": "python",
   "nbconvert_exporter": "python",
   "pygments_lexer": "ipython3",
   "version": "3.5.2"
  }
 },
 "nbformat": 4,
 "nbformat_minor": 0
}
