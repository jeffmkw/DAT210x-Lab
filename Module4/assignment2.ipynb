{
 "cells": [
  {
   "cell_type": "code",
   "execution_count": 67,
   "metadata": {
    "collapsed": false
   },
   "outputs": [],
   "source": [
    "import pandas as pd\n",
    "import matplotlib.pyplot as plt\n",
    "import matplotlib\n",
    "import assignment2_helper as helper\n",
    "\n",
    "# Look pretty...\n",
    "# matplotlib.style.use('ggplot')\n",
    "plt.style.use('ggplot')\n",
    "\n",
    "# Do * NOT * alter this line, until instructed!\n",
    "scaleFeatures = True"
   ]
  },
  {
   "cell_type": "code",
   "execution_count": 68,
   "metadata": {
    "collapsed": false
   },
   "outputs": [],
   "source": [
    "# TODO: Load up the dataset and remove any and all\n",
    "# Rows that have a nan. You should be a pro at this\n",
    "# by now ;-)\n",
    "#\n",
    "# QUESTION: Should the id column be included as a\n",
    "# feature?\n",
    "#\n",
    "file = pd.read_csv('Datasets/kidney_disease.csv')\n",
    "file = file.dropna()\n",
    "df = file"
   ]
  },
  {
   "cell_type": "code",
   "execution_count": 69,
   "metadata": {
    "collapsed": false
   },
   "outputs": [],
   "source": [
    "# Create some color coded labels; the actual label feature\n",
    "# will be removed prior to executing PCA, since it's unsupervised.\n",
    "# You're only labeling by color so you can see the effects of PCA\n",
    "labels = ['red' if i=='ckd' else 'green' for i in df.classification]"
   ]
  },
  {
   "cell_type": "code",
   "execution_count": 70,
   "metadata": {
    "collapsed": false
   },
   "outputs": [
    {
     "data": {
      "text/plain": [
       "Index(['bgr', 'wc', 'rc'], dtype='object')"
      ]
     },
     "execution_count": 70,
     "metadata": {},
     "output_type": "execute_result"
    }
   ],
   "source": [
    "# TODO: Use an indexer to select only the following columns:\n",
    "#       ['bgr','wc','rc']\n",
    "df = df[['bgr','wc','rc']]\n",
    "# TODO: Print out and check your dataframe's dtypes. You'll might\n",
    "# want to set a breakpoint after you print it out so you can stop the\n",
    "# program's execution.\n",
    "df.columns"
   ]
  },
  {
   "cell_type": "code",
   "execution_count": 71,
   "metadata": {
    "collapsed": false
   },
   "outputs": [
    {
     "name": "stderr",
     "output_type": "stream",
     "text": [
      "D:\\anaconda\\lib\\site-packages\\pandas\\core\\generic.py:2773: SettingWithCopyWarning: \n",
      "A value is trying to be set on a copy of a slice from a DataFrame.\n",
      "Try using .loc[row_indexer,col_indexer] = value instead\n",
      "\n",
      "See the caveats in the documentation: http://pandas.pydata.org/pandas-docs/stable/indexing.html#indexing-view-versus-copy\n",
      "  self[name] = value\n"
     ]
    },
    {
     "data": {
      "text/plain": [
       "bgr    float64\n",
       "wc       int64\n",
       "rc     float64\n",
       "dtype: object"
      ]
     },
     "execution_count": 71,
     "metadata": {},
     "output_type": "execute_result"
    }
   ],
   "source": [
    "#You can either take a look at the dataset webpage in the attribute info\n",
    "# section: https://archive.ics.uci.edu/ml/datasets/Chronic_Kidney_Disease\n",
    "# or you can actually peek through the dataframe by printing a few rows.\n",
    "# What kind of data type should these three columns be? If Pandas didn't\n",
    "# properly detect and convert them to that data type for you, then use\n",
    "# an appropriate command to coerce these features into the right type.\n",
    "df.wc = pd.to_numeric(df.wc)\n",
    "df.rc = pd.to_numeric(df.rc)\n",
    "df.dtypes"
   ]
  },
  {
   "cell_type": "code",
   "execution_count": 72,
   "metadata": {
    "collapsed": false
   },
   "outputs": [
    {
     "data": {
      "text/plain": [
       "bgr    4.217182e+03\n",
       "wc     9.777380e+06\n",
       "rc     1.039104e+00\n",
       "dtype: float64"
      ]
     },
     "execution_count": 72,
     "metadata": {},
     "output_type": "execute_result"
    }
   ],
   "source": [
    "# TODO: PCA Operates based on variance. The variable with the greatest\n",
    "# variance will dominate. Go ahead and peek into your data using a\n",
    "# command that will check the variance of every feature in your dataset.\n",
    "# Print out the results. Also print out the results of running .describe\n",
    "# on your dataset.\n",
    "#\n",
    "# Hint: If you don't see all three variables: 'bgr','wc' and 'rc', then\n",
    "# you probably didn't complete the previous step properly.\n",
    "df.var()"
   ]
  },
  {
   "cell_type": "code",
   "execution_count": 73,
   "metadata": {
    "collapsed": false
   },
   "outputs": [
    {
     "name": "stdout",
     "output_type": "stream",
     "text": [
      "New Variances:\n",
      " bgr    1.006369\n",
      "wc     1.006369\n",
      "rc     1.006369\n",
      "dtype: float64\n",
      "New Describe:\n",
      "                 bgr            wc            rc\n",
      "count  1.580000e+02  1.580000e+02  1.580000e+02\n",
      "mean  -9.755075e-17  9.345548e-17  1.068063e-16\n",
      "std    1.003180e+00  1.003180e+00  1.003180e+00\n",
      "min   -9.475974e-01 -1.500159e+00 -2.747446e+00\n",
      "25%   -5.305059e-01 -6.259123e-01 -3.855519e-01\n",
      "50%   -2.447210e-01 -2.168611e-01  5.730335e-02\n",
      "75%    6.306235e-03  4.167672e-01  6.969831e-01\n",
      "max    5.540492e+00  5.750474e+00  3.058878e+00\n"
     ]
    }
   ],
   "source": [
    "# TODO: This method assumes your dataframe is called df. If it isn't,\n",
    "# make the appropriate changes. Don't alter the code in scaleFeatures()\n",
    "# just yet though!\n",
    "#\n",
    "# .. your code adjustment here ..\n",
    "if scaleFeatures: df = helper.scaleFeatures(df)"
   ]
  },
  {
   "cell_type": "code",
   "execution_count": 74,
   "metadata": {
    "collapsed": false
   },
   "outputs": [],
   "source": [
    "# TODO: Run PCA on your dataset and reduce it to 2 components\n",
    "# Ensure your PCA instance is saved in a variable called 'pca',\n",
    "# and that the results of your transformation are saved in 'T'.\n",
    "from sklearn.decomposition import PCA\n",
    "pca = PCA(n_components=2, svd_solver='full')\n",
    "pca.fit(df)\n",
    "T = pca.transform(df)"
   ]
  },
  {
   "cell_type": "code",
   "execution_count": 75,
   "metadata": {
    "collapsed": false
   },
   "outputs": [
    {
     "name": "stdout",
     "output_type": "stream",
     "text": [
      "Features by importance:\n",
      " [(3.9998071556884853, 'wc'), (3.2588876641210898, 'bgr'), (3.0097527529983648, 'rc')]\n"
     ]
    },
    {
     "data": {
      "image/png": "[encoded data removed]",
      "text/plain": [
       "<matplotlib.figure.Figure at 0x1bb99329550>"
      ]
     },
     "metadata": {},
     "output_type": "display_data"
    }
   ],
   "source": [
    "# Plot the transformed data as a scatter plot. Recall that transforming\n",
    "# the data will result in a NumPy NDArray. You can either use MatPlotLib\n",
    "# to graph it directly, or you can convert it to DataFrame and have pandas\n",
    "# do it for you.\n",
    "#\n",
    "# Since we've already demonstrated how to plot directly with MatPlotLib in\n",
    "# Module4/assignment1.py, this time we'll convert to a Pandas Dataframe.\n",
    "#\n",
    "# Since we transformed via PCA, we no longer have column names. We know we\n",
    "# are in P.C. space, so we'll just define the coordinates accordingly:\n",
    "%matplotlib inline\n",
    "ax = helper.drawVectors(T, pca.components_, df.columns.values, plt, scaleFeatures)\n",
    "T = pd.DataFrame(T)\n",
    "T.columns = ['component1', 'component2']\n",
    "T.plot.scatter(x='component1', y='component2', marker='o', c=labels, alpha=0.75, ax=ax)\n",
    "plt.show()\n"
   ]
  },
  {
   "cell_type": "code",
   "execution_count": 76,
   "metadata": {
    "collapsed": false
   },
   "outputs": [
    {
     "data": {
      "text/plain": [
       "<matplotlib.axes._subplots.AxesSubplot at 0x1bb99226748>"
      ]
     },
     "execution_count": 76,
     "metadata": {},
     "output_type": "execute_result"
    },
    {
     "data": {
      "image/png": "[encoded data removed]",
      "text/plain": [
       "<matplotlib.figure.Figure at 0x1bb99477fd0>"
      ]
     },
     "metadata": {},
     "output_type": "display_data"
    }
   ],
   "source": [
    "df.plot.scatter(x='wc', y='bgr')"
   ]
  }
 ],
 "metadata": {
  "kernelspec": {
   "display_name": "Python 3",
   "language": "python",
   "name": "python3"
  },
  "language_info": {
   "codemirror_mode": {
    "name": "ipython",
    "version": 3
   },
   "file_extension": ".py",
   "mimetype": "text/x-python",
   "name": "python",
   "nbconvert_exporter": "python",
   "pygments_lexer": "ipython3",
   "version": "3.5.2"
  }
 },
 "nbformat": 4,
 "nbformat_minor": 0
}
