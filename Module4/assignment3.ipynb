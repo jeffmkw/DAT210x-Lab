{
 "cells": [
  {
   "cell_type": "code",
   "execution_count": 30,
   "metadata": {
    "collapsed": true
   },
   "outputs": [],
   "source": [
    "import pandas as pd\n",
    "import matplotlib.pyplot as plt\n",
    "import matplotlib\n",
    "import assignment2_helper as helper\n",
    "\n",
    "# Look pretty...\n",
    "# matplotlib.style.use('ggplot')\n",
    "plt.style.use('ggplot')\n",
    "\n",
    "# Do * NOT * alter this line, until instructed!\n",
    "scaleFeatures = True"
   ]
  },
  {
   "cell_type": "code",
   "execution_count": 31,
   "metadata": {
    "collapsed": false
   },
   "outputs": [],
   "source": [
    "# TODO: Load up the dataset and remove any and all\n",
    "# Rows that have a nan. You should be a pro at this\n",
    "# by now ;-)\n",
    "#\n",
    "# QUESTION: Should the id column be included as a\n",
    "# feature?\n",
    "#\n",
    "file = pd.read_csv('Datasets/kidney_disease.csv')\n",
    "file = file.dropna()\n",
    "df = file"
   ]
  },
  {
   "cell_type": "code",
   "execution_count": 32,
   "metadata": {
    "collapsed": false
   },
   "outputs": [],
   "source": [
    "# Create some color coded labels; the actual label feature\n",
    "# will be removed prior to executing PCA, since it's unsupervised.\n",
    "# You're only labeling by color so you can see the effects of PCA\n",
    "labels = ['red' if i=='ckd' else 'green' for i in df.classification]"
   ]
  },
  {
   "cell_type": "code",
   "execution_count": 33,
   "metadata": {
    "collapsed": false
   },
   "outputs": [
    {
     "data": {
      "text/plain": [
       "Index(['age', 'bp', 'sg', 'al', 'su', 'bgr', 'bu', 'sc', 'sod', 'pot', 'hemo',\n",
       "       'pcv', 'wc', 'rc'],\n",
       "      dtype='object')"
      ]
     },
     "execution_count": 33,
     "metadata": {},
     "output_type": "execute_result"
    }
   ],
   "source": [
    "df = df.drop(['id', 'classification', 'rbc', 'pc', 'pcc', 'ba', 'htn', 'dm', 'cad', 'appet', 'pe', 'ane'], axis = 1)\n",
    "# TODO: Print out and check your dataframe's dtypes. You'll might\n",
    "# want to set a breakpoint after you print it out so you can stop the\n",
    "# program's execution.\n",
    "df.columns"
   ]
  },
  {
   "cell_type": "code",
   "execution_count": 34,
   "metadata": {
    "collapsed": false
   },
   "outputs": [
    {
     "data": {
      "text/plain": [
       "age     float64\n",
       "bp      float64\n",
       "sg      float64\n",
       "al      float64\n",
       "su      float64\n",
       "bgr     float64\n",
       "bu      float64\n",
       "sc      float64\n",
       "sod     float64\n",
       "pot     float64\n",
       "hemo    float64\n",
       "pcv      object\n",
       "wc        int64\n",
       "rc      float64\n",
       "dtype: object"
      ]
     },
     "execution_count": 34,
     "metadata": {},
     "output_type": "execute_result"
    }
   ],
   "source": [
    "#You can either take a look at the dataset webpage in the attribute info\n",
    "# section: https://archive.ics.uci.edu/ml/datasets/Chronic_Kidney_Disease\n",
    "# or you can actually peek through the dataframe by printing a few rows.\n",
    "# What kind of data type should these three columns be? If Pandas didn't\n",
    "# properly detect and convert them to that data type for you, then use\n",
    "# an appropriate command to coerce these features into the right type.\n",
    "df.wc = pd.to_numeric(df.wc)\n",
    "df.rc = pd.to_numeric(df.rc)\n",
    "df.dtypes"
   ]
  },
  {
   "cell_type": "code",
   "execution_count": 35,
   "metadata": {
    "collapsed": false
   },
   "outputs": [
    {
     "data": {
      "text/plain": [
       "age     2.406297e+02\n",
       "bp      1.248891e+02\n",
       "sg      3.023865e-05\n",
       "al      1.996936e+00\n",
       "su      6.616141e-01\n",
       "bgr     4.217182e+03\n",
       "bu      2.246322e+03\n",
       "sc      9.471717e+00\n",
       "sod     5.609143e+01\n",
       "pot     1.208501e+01\n",
       "hemo    8.307100e+00\n",
       "wc      9.777380e+06\n",
       "rc      1.039104e+00\n",
       "dtype: float64"
      ]
     },
     "execution_count": 35,
     "metadata": {},
     "output_type": "execute_result"
    }
   ],
   "source": [
    "# TODO: PCA Operates based on variance. The variable with the greatest\n",
    "# variance will dominate. Go ahead and peek into your data using a\n",
    "# command that will check the variance of every feature in your dataset.\n",
    "# Print out the results. Also print out the results of running .describe\n",
    "# on your dataset.\n",
    "#\n",
    "# Hint: If you don't see all three variables: 'bgr','wc' and 'rc', then\n",
    "# you probably didn't complete the previous step properly.\n",
    "df.var()"
   ]
  },
  {
   "cell_type": "code",
   "execution_count": 36,
   "metadata": {
    "collapsed": false
   },
   "outputs": [
    {
     "name": "stdout",
     "output_type": "stream",
     "text": [
      "New Variances:\n",
      " age     1.006369\n",
      "bp      1.006369\n",
      "sg      1.006369\n",
      "al      1.006369\n",
      "su      1.006369\n",
      "bgr     1.006369\n",
      "bu      1.006369\n",
      "sc      1.006369\n",
      "sod     1.006369\n",
      "pot     1.006369\n",
      "hemo    1.006369\n",
      "pcv     1.006369\n",
      "wc      1.006369\n",
      "rc      1.006369\n",
      "dtype: float64\n",
      "New Describe:\n",
      "                 age            bp            sg            al            su  \\\n",
      "count  1.580000e+02  1.580000e+02  1.580000e+02  1.580000e+02  1.580000e+02   \n",
      "mean   1.032929e-16  7.406171e-16 -1.624580e-15 -7.757508e-16 -2.108018e-18   \n",
      "std    1.003180e+00  1.003180e+00  1.003180e+00  1.003180e+00  1.003180e+00   \n",
      "min   -2.817246e+00 -2.158952e+00 -2.713365e+00 -5.661221e-01 -3.122333e-01   \n",
      "25%   -6.669624e-01 -1.261282e+00  2.309247e-02 -5.661221e-01 -3.122333e-01   \n",
      "50%    6.057713e-02  5.340564e-01  2.309247e-02 -5.661221e-01 -3.122333e-01   \n",
      "75%    6.749439e-01  5.340564e-01  9.352451e-01  1.437770e-01 -3.122333e-01   \n",
      "max    2.162358e+00  3.227064e+00  9.352451e-01  2.273474e+00  5.854375e+00   \n",
      "\n",
      "                bgr            bu            sc           sod           pot  \\\n",
      "count  1.580000e+02  1.580000e+02  1.580000e+02  1.580000e+02  1.580000e+02   \n",
      "mean  -9.755075e-17 -2.578809e-16  7.869935e-17  8.119384e-16  4.321438e-17   \n",
      "std    1.003180e+00  1.003180e+00  1.003180e+00  1.003180e+00  1.003180e+00   \n",
      "min   -9.475974e-01 -9.011706e-01 -5.830146e-01 -3.730148e+00 -6.165957e-01   \n",
      "25%   -5.305059e-01 -5.625116e-01 -4.852266e-01 -5.154386e-01 -2.703085e-01   \n",
      "50%   -2.447210e-01 -2.767680e-01 -3.548426e-01  2.034626e-02 -3.945044e-02   \n",
      "75%    6.306235e-03 -5.981458e-02 -1.918626e-01  6.900774e-01  7.597862e-02   \n",
      "max    5.540492e+00  5.427520e+00  4.241194e+00  1.493755e+00  1.222489e+01   \n",
      "\n",
      "               hemo           pcv            wc            rc  \n",
      "count  1.580000e+02  1.580000e+02  1.580000e+02  1.580000e+02  \n",
      "mean   2.051805e-16 -2.220446e-16  9.345548e-17  1.068063e-16  \n",
      "std    1.003180e+00  1.003180e+00  1.003180e+00  1.003180e+00  \n",
      "min   -3.685029e+00 -3.626776e+00 -1.500159e+00 -2.747446e+00  \n",
      "25%   -3.784601e-01 -4.867313e-01 -6.259123e-01 -3.855519e-01  \n",
      "50%    1.958388e-01  2.294192e-01 -2.168611e-01  5.730335e-02  \n",
      "75%    7.266301e-01  6.701272e-01  4.167672e-01  6.969831e-01  \n",
      "max    1.431451e+00  1.331189e+00  5.750474e+00  3.058878e+00  \n"
     ]
    }
   ],
   "source": [
    "# TODO: This method assumes your dataframe is called df. If it isn't,\n",
    "# make the appropriate changes. Don't alter the code in scaleFeatures()\n",
    "# just yet though!\n",
    "#\n",
    "# .. your code adjustment here ..\n",
    "if scaleFeatures: df = helper.scaleFeatures(df)"
   ]
  },
  {
   "cell_type": "code",
   "execution_count": 37,
   "metadata": {
    "collapsed": false
   },
   "outputs": [],
   "source": [
    "# TODO: Run PCA on your dataset and reduce it to 2 components\n",
    "# Ensure your PCA instance is saved in a variable called 'pca',\n",
    "# and that the results of your transformation are saved in 'T'.\n",
    "from sklearn.decomposition import PCA\n",
    "pca = PCA(n_components=2, svd_solver='full')\n",
    "pca.fit(df)\n",
    "T = pca.transform(df)"
   ]
  },
  {
   "cell_type": "code",
   "execution_count": 38,
   "metadata": {
    "collapsed": false
   },
   "outputs": [
    {
     "name": "stdout",
     "output_type": "stream",
     "text": [
      "Features by importance:\n",
      " [(3.433627889616105, 'bgr'), (3.233806932188046, 'sc'), (3.186288965558515, 'bu'), (3.122621524086648, 'su'), (3.0756029035694414, 'pcv'), (3.062948518962919, 'hemo'), (3.00259239563645, 'al'), (2.799046889173661, 'sg'), (2.7327769657650536, 'rc'), (2.423868178808101, 'sod'), (2.2365062694668976, 'age'), (2.1470583037474387, 'wc'), (1.7017683320956656, 'bp'), (1.0563823537406833, 'pot')]\n"
     ]
    },
    {
     "data": {
      "image/png": "[encoded data removed]",
      "text/plain": [
       "<matplotlib.figure.Figure at 0x1efbc12d080>"
      ]
     },
     "metadata": {},
     "output_type": "display_data"
    }
   ],
   "source": [
    "# Plot the transformed data as a scatter plot. Recall that transforming\n",
    "# the data will result in a NumPy NDArray. You can either use MatPlotLib\n",
    "# to graph it directly, or you can convert it to DataFrame and have pandas\n",
    "# do it for you.\n",
    "#\n",
    "# Since we've already demonstrated how to plot directly with MatPlotLib in\n",
    "# Module4/assignment1.py, this time we'll convert to a Pandas Dataframe.\n",
    "#\n",
    "# Since we transformed via PCA, we no longer have column names. We know we\n",
    "# are in P.C. space, so we'll just define the coordinates accordingly:\n",
    "%matplotlib inline\n",
    "ax = helper.drawVectors(T, pca.components_, df.columns.values, plt, scaleFeatures)\n",
    "T = pd.DataFrame(T)\n",
    "T.columns = ['component1', 'component2']\n",
    "T.plot.scatter(x='component1', y='component2', marker='o', c=labels, alpha=0.75, ax=ax)\n",
    "plt.show()"
   ]
  },
  {
   "cell_type": "code",
   "execution_count": 39,
   "metadata": {
    "collapsed": false
   },
   "outputs": [
    {
     "data": {
      "text/plain": [
       "<matplotlib.axes._subplots.AxesSubplot at 0x1efbc079400>"
      ]
     },
     "execution_count": 39,
     "metadata": {},
     "output_type": "execute_result"
    },
    {
     "data": {
      "image/png": "[encoded data removed]",
      "text/plain": [
       "<matplotlib.figure.Figure at 0x1efbc0796a0>"
      ]
     },
     "metadata": {},
     "output_type": "display_data"
    }
   ],
   "source": [
    "df.plot.scatter(x='wc', y='bgr')"
   ]
  }
 ],
 "metadata": {
  "kernelspec": {
   "display_name": "Python 3",
   "language": "python",
   "name": "python3"
  },
  "language_info": {
   "codemirror_mode": {
    "name": "ipython",
    "version": 3.0
   },
   "file_extension": ".py",
   "mimetype": "text/x-python",
   "name": "python",
   "nbconvert_exporter": "python",
   "pygments_lexer": "ipython3",
   "version": "3.5.2"
  }
 },
 "nbformat": 4,
 "nbformat_minor": 0
}